{
 "cells": [
  {
   "cell_type": "markdown",
   "id": "972b0a84",
   "metadata": {},
   "source": [
    "# Loan Status Classification"
   ]
  },
  {
   "cell_type": "markdown",
   "id": "a7bdf326",
   "metadata": {},
   "source": [
    "## Importing Required Libraries"
   ]
  },
  {
   "cell_type": "code",
   "execution_count": 1,
   "id": "a2314105",
   "metadata": {},
   "outputs": [],
   "source": [
    "import pandas as pd # for Data Frame\n",
    "import numpy as np # for Numerical Operation\n",
    "import matplotlib.pyplot as plt # for Visulization\n",
    "%matplotlib inline\n",
    "import seaborn as sns # for Visulization\n",
    "import warnings # for Ignoring Warnings\n",
    "warnings.filterwarnings('ignore')\n",
    "\n",
    "from sklearn.naive_bayes import GaussianNB # Naive Bayes Algoritham\n",
    "from sklearn.metrics import accuracy_score, confusion_matrix, recall_score, precision_score # for Accuracy\n",
    "from sklearn.metrics import classification_report # for Accuracy\n",
    "from sklearn.model_selection import train_test_split # for Split Data into Train and Test\n",
    "from sklearn.preprocessing import LabelEncoder"
   ]
  },
  {
   "cell_type": "markdown",
   "id": "7322185e",
   "metadata": {},
   "source": [
    "## Part - 1 : Data Exploration and Pre-processing"
   ]
  },
  {
   "cell_type": "markdown",
   "id": "a0bd7b4d",
   "metadata": {},
   "source": [
    "### 1) Load the given dataset"
   ]
  },
  {
   "cell_type": "code",
   "execution_count": 2,
   "id": "72c63315",
   "metadata": {},
   "outputs": [],
   "source": [
    "df = pd.read_csv('Project_8_Loan_Status_Classification.csv')"
   ]
  },
  {
   "cell_type": "code",
   "execution_count": 3,
   "id": "59c8fc68",
   "metadata": {},
   "outputs": [
    {
     "data": {
      "text/html": [
       "<div>\n",
       "<style scoped>\n",
       "    .dataframe tbody tr th:only-of-type {\n",
       "        vertical-align: middle;\n",
       "    }\n",
       "\n",
       "    .dataframe tbody tr th {\n",
       "        vertical-align: top;\n",
       "    }\n",
       "\n",
       "    .dataframe thead th {\n",
       "        text-align: right;\n",
       "    }\n",
       "</style>\n",
       "<table border=\"1\" class=\"dataframe\">\n",
       "  <thead>\n",
       "    <tr style=\"text-align: right;\">\n",
       "      <th></th>\n",
       "      <th>ID</th>\n",
       "      <th>LIMIT_BAL</th>\n",
       "      <th>AGE</th>\n",
       "      <th>BILL_AMT1</th>\n",
       "      <th>BILL_AMT2</th>\n",
       "      <th>BILL_AMT3</th>\n",
       "      <th>BILL_AMT4</th>\n",
       "      <th>BILL_AMT5</th>\n",
       "      <th>BILL_AMT6</th>\n",
       "      <th>PAY_AMT1</th>\n",
       "      <th>PAY_AMT2</th>\n",
       "      <th>PAY_AMT3</th>\n",
       "      <th>PAY_AMT4</th>\n",
       "      <th>PAY_AMT5</th>\n",
       "      <th>PAY_AMT6</th>\n",
       "      <th>Default Status</th>\n",
       "    </tr>\n",
       "  </thead>\n",
       "  <tbody>\n",
       "    <tr>\n",
       "      <th>0</th>\n",
       "      <td>1</td>\n",
       "      <td>2.0</td>\n",
       "      <td>24</td>\n",
       "      <td>3913.0</td>\n",
       "      <td>312.0</td>\n",
       "      <td>689.0</td>\n",
       "      <td>NaN</td>\n",
       "      <td>NaN</td>\n",
       "      <td>NaN</td>\n",
       "      <td>NaN</td>\n",
       "      <td>689.0</td>\n",
       "      <td>NaN</td>\n",
       "      <td>NaN</td>\n",
       "      <td>NaN</td>\n",
       "      <td>NaN</td>\n",
       "      <td>Default</td>\n",
       "    </tr>\n",
       "    <tr>\n",
       "      <th>1</th>\n",
       "      <td>2</td>\n",
       "      <td>12.0</td>\n",
       "      <td>26</td>\n",
       "      <td>2682.0</td>\n",
       "      <td>1725.0</td>\n",
       "      <td>2682.0</td>\n",
       "      <td>3272.0</td>\n",
       "      <td>3455.0</td>\n",
       "      <td>3261.0</td>\n",
       "      <td>NaN</td>\n",
       "      <td>1.0</td>\n",
       "      <td>1.0</td>\n",
       "      <td>1.0</td>\n",
       "      <td>NaN</td>\n",
       "      <td>2.0</td>\n",
       "      <td>Default</td>\n",
       "    </tr>\n",
       "    <tr>\n",
       "      <th>2</th>\n",
       "      <td>3</td>\n",
       "      <td>9.0</td>\n",
       "      <td>34</td>\n",
       "      <td>29239.0</td>\n",
       "      <td>1427.0</td>\n",
       "      <td>13559.0</td>\n",
       "      <td>14331.0</td>\n",
       "      <td>14948.0</td>\n",
       "      <td>15549.0</td>\n",
       "      <td>1518.0</td>\n",
       "      <td>15.0</td>\n",
       "      <td>1.0</td>\n",
       "      <td>1.0</td>\n",
       "      <td>1.0</td>\n",
       "      <td>5.0</td>\n",
       "      <td>Not Default</td>\n",
       "    </tr>\n",
       "    <tr>\n",
       "      <th>3</th>\n",
       "      <td>4</td>\n",
       "      <td>5.0</td>\n",
       "      <td>37</td>\n",
       "      <td>4699.0</td>\n",
       "      <td>48233.0</td>\n",
       "      <td>49291.0</td>\n",
       "      <td>28314.0</td>\n",
       "      <td>28959.0</td>\n",
       "      <td>29547.0</td>\n",
       "      <td>2.0</td>\n",
       "      <td>219.0</td>\n",
       "      <td>12.0</td>\n",
       "      <td>11.0</td>\n",
       "      <td>169.0</td>\n",
       "      <td>1.0</td>\n",
       "      <td>Not Default</td>\n",
       "    </tr>\n",
       "    <tr>\n",
       "      <th>4</th>\n",
       "      <td>5</td>\n",
       "      <td>5.0</td>\n",
       "      <td>57</td>\n",
       "      <td>8617.0</td>\n",
       "      <td>567.0</td>\n",
       "      <td>35835.0</td>\n",
       "      <td>294.0</td>\n",
       "      <td>19146.0</td>\n",
       "      <td>19131.0</td>\n",
       "      <td>2.0</td>\n",
       "      <td>36681.0</td>\n",
       "      <td>1.0</td>\n",
       "      <td>9.0</td>\n",
       "      <td>689.0</td>\n",
       "      <td>679.0</td>\n",
       "      <td>Not Default</td>\n",
       "    </tr>\n",
       "  </tbody>\n",
       "</table>\n",
       "</div>"
      ],
      "text/plain": [
       "   ID  LIMIT_BAL  AGE  BILL_AMT1  BILL_AMT2  BILL_AMT3  BILL_AMT4  BILL_AMT5  \\\n",
       "0   1        2.0   24     3913.0      312.0      689.0        NaN        NaN   \n",
       "1   2       12.0   26     2682.0     1725.0     2682.0     3272.0     3455.0   \n",
       "2   3        9.0   34    29239.0     1427.0    13559.0    14331.0    14948.0   \n",
       "3   4        5.0   37     4699.0    48233.0    49291.0    28314.0    28959.0   \n",
       "4   5        5.0   57     8617.0      567.0    35835.0      294.0    19146.0   \n",
       "\n",
       "   BILL_AMT6  PAY_AMT1  PAY_AMT2  PAY_AMT3  PAY_AMT4  PAY_AMT5  PAY_AMT6  \\\n",
       "0        NaN       NaN     689.0       NaN       NaN       NaN       NaN   \n",
       "1     3261.0       NaN       1.0       1.0       1.0       NaN       2.0   \n",
       "2    15549.0    1518.0      15.0       1.0       1.0       1.0       5.0   \n",
       "3    29547.0       2.0     219.0      12.0      11.0     169.0       1.0   \n",
       "4    19131.0       2.0   36681.0       1.0       9.0     689.0     679.0   \n",
       "\n",
       "  Default Status  \n",
       "0        Default  \n",
       "1        Default  \n",
       "2    Not Default  \n",
       "3    Not Default  \n",
       "4    Not Default  "
      ]
     },
     "execution_count": 3,
     "metadata": {},
     "output_type": "execute_result"
    }
   ],
   "source": [
    "df.head()"
   ]
  },
  {
   "cell_type": "markdown",
   "id": "a1bef43b",
   "metadata": {},
   "source": [
    "### 2) Check the null values"
   ]
  },
  {
   "cell_type": "code",
   "execution_count": 4,
   "id": "9359c345",
   "metadata": {},
   "outputs": [
    {
     "data": {
      "text/plain": [
       "ID                   0\n",
       "LIMIT_BAL            0\n",
       "AGE                  0\n",
       "BILL_AMT1         2008\n",
       "BILL_AMT2         2506\n",
       "BILL_AMT3         2870\n",
       "BILL_AMT4         3195\n",
       "BILL_AMT5         3506\n",
       "BILL_AMT6         4020\n",
       "PAY_AMT1          5249\n",
       "PAY_AMT2          5396\n",
       "PAY_AMT3          5968\n",
       "PAY_AMT4          6408\n",
       "PAY_AMT5          6703\n",
       "PAY_AMT6          7173\n",
       "Default Status       0\n",
       "dtype: int64"
      ]
     },
     "execution_count": 4,
     "metadata": {},
     "output_type": "execute_result"
    }
   ],
   "source": [
    "df.isnull().sum()"
   ]
  },
  {
   "cell_type": "markdown",
   "id": "bcc4a12b",
   "metadata": {},
   "source": [
    "### 3) Print all the column names"
   ]
  },
  {
   "cell_type": "code",
   "execution_count": 5,
   "id": "58a30809",
   "metadata": {},
   "outputs": [
    {
     "data": {
      "text/plain": [
       "Index(['ID', 'LIMIT_BAL', 'AGE', 'BILL_AMT1', 'BILL_AMT2', 'BILL_AMT3',\n",
       "       'BILL_AMT4', 'BILL_AMT5', 'BILL_AMT6', 'PAY_AMT1', 'PAY_AMT2',\n",
       "       'PAY_AMT3', 'PAY_AMT4', 'PAY_AMT5', 'PAY_AMT6', 'Default Status'],\n",
       "      dtype='object')"
      ]
     },
     "execution_count": 5,
     "metadata": {},
     "output_type": "execute_result"
    }
   ],
   "source": [
    "df.columns"
   ]
  },
  {
   "cell_type": "markdown",
   "id": "e7753ac8",
   "metadata": {},
   "source": [
    "### 4) Create list for all the columns which have null values columns"
   ]
  },
  {
   "cell_type": "code",
   "execution_count": 7,
   "id": "2f5d765f",
   "metadata": {},
   "outputs": [],
   "source": [
    "lis = ['BILL_AMT1', 'BILL_AMT2', 'BILL_AMT3',\n",
    "       'BILL_AMT4', 'BILL_AMT5', 'BILL_AMT6', 'PAY_AMT1', 'PAY_AMT2',\n",
    "       'PAY_AMT3', 'PAY_AMT4', 'PAY_AMT5', 'PAY_AMT6']"
   ]
  },
  {
   "cell_type": "markdown",
   "id": "701ef1a4",
   "metadata": {},
   "source": [
    "### 5) Fill all the null values with mean using loop"
   ]
  },
  {
   "cell_type": "code",
   "execution_count": 8,
   "id": "f805db36",
   "metadata": {},
   "outputs": [],
   "source": [
    "for i in lis:\n",
    "    df[i] = df[i].fillna(df[i].mean())"
   ]
  },
  {
   "cell_type": "markdown",
   "id": "544eac90",
   "metadata": {},
   "source": [
    "### 6) Get the data information"
   ]
  },
  {
   "cell_type": "code",
   "execution_count": 9,
   "id": "6693939b",
   "metadata": {},
   "outputs": [
    {
     "name": "stdout",
     "output_type": "stream",
     "text": [
      "<class 'pandas.core.frame.DataFrame'>\n",
      "RangeIndex: 30000 entries, 0 to 29999\n",
      "Data columns (total 16 columns):\n",
      " #   Column          Non-Null Count  Dtype  \n",
      "---  ------          --------------  -----  \n",
      " 0   ID              30000 non-null  int64  \n",
      " 1   LIMIT_BAL       30000 non-null  float64\n",
      " 2   AGE             30000 non-null  int64  \n",
      " 3   BILL_AMT1       30000 non-null  float64\n",
      " 4   BILL_AMT2       30000 non-null  float64\n",
      " 5   BILL_AMT3       30000 non-null  float64\n",
      " 6   BILL_AMT4       30000 non-null  float64\n",
      " 7   BILL_AMT5       30000 non-null  float64\n",
      " 8   BILL_AMT6       30000 non-null  float64\n",
      " 9   PAY_AMT1        30000 non-null  float64\n",
      " 10  PAY_AMT2        30000 non-null  float64\n",
      " 11  PAY_AMT3        30000 non-null  float64\n",
      " 12  PAY_AMT4        30000 non-null  float64\n",
      " 13  PAY_AMT5        30000 non-null  float64\n",
      " 14  PAY_AMT6        30000 non-null  float64\n",
      " 15  Default Status  30000 non-null  object \n",
      "dtypes: float64(13), int64(2), object(1)\n",
      "memory usage: 3.7+ MB\n"
     ]
    }
   ],
   "source": [
    "df.info()"
   ]
  },
  {
   "cell_type": "markdown",
   "id": "d7e4168f",
   "metadata": {},
   "source": [
    "### 7) describe dataset"
   ]
  },
  {
   "cell_type": "code",
   "execution_count": 10,
   "id": "05af697b",
   "metadata": {},
   "outputs": [
    {
     "data": {
      "text/html": [
       "<div>\n",
       "<style scoped>\n",
       "    .dataframe tbody tr th:only-of-type {\n",
       "        vertical-align: middle;\n",
       "    }\n",
       "\n",
       "    .dataframe tbody tr th {\n",
       "        vertical-align: top;\n",
       "    }\n",
       "\n",
       "    .dataframe thead th {\n",
       "        text-align: right;\n",
       "    }\n",
       "</style>\n",
       "<table border=\"1\" class=\"dataframe\">\n",
       "  <thead>\n",
       "    <tr style=\"text-align: right;\">\n",
       "      <th></th>\n",
       "      <th>ID</th>\n",
       "      <th>LIMIT_BAL</th>\n",
       "      <th>AGE</th>\n",
       "      <th>BILL_AMT1</th>\n",
       "      <th>BILL_AMT2</th>\n",
       "      <th>BILL_AMT3</th>\n",
       "      <th>BILL_AMT4</th>\n",
       "      <th>BILL_AMT5</th>\n",
       "      <th>BILL_AMT6</th>\n",
       "      <th>PAY_AMT1</th>\n",
       "      <th>PAY_AMT2</th>\n",
       "      <th>PAY_AMT3</th>\n",
       "      <th>PAY_AMT4</th>\n",
       "      <th>PAY_AMT5</th>\n",
       "      <th>PAY_AMT6</th>\n",
       "    </tr>\n",
       "  </thead>\n",
       "  <tbody>\n",
       "    <tr>\n",
       "      <th>count</th>\n",
       "      <td>30000.000000</td>\n",
       "      <td>30000.000000</td>\n",
       "      <td>30000.000000</td>\n",
       "      <td>30000.000000</td>\n",
       "      <td>30000.000000</td>\n",
       "      <td>30000.000000</td>\n",
       "      <td>30000.00000</td>\n",
       "      <td>30000.000000</td>\n",
       "      <td>30000.000000</td>\n",
       "      <td>30000.000000</td>\n",
       "      <td>3.000000e+04</td>\n",
       "      <td>30000.000000</td>\n",
       "      <td>30000.000000</td>\n",
       "      <td>30000.000000</td>\n",
       "      <td>30000.000000</td>\n",
       "    </tr>\n",
       "    <tr>\n",
       "      <th>mean</th>\n",
       "      <td>10666.660700</td>\n",
       "      <td>14.648867</td>\n",
       "      <td>32.427900</td>\n",
       "      <td>33989.494570</td>\n",
       "      <td>33938.750418</td>\n",
       "      <td>32617.867011</td>\n",
       "      <td>30709.50416</td>\n",
       "      <td>29015.123424</td>\n",
       "      <td>28526.276559</td>\n",
       "      <td>2613.957537</td>\n",
       "      <td>2.922762e+03</td>\n",
       "      <td>2584.508988</td>\n",
       "      <td>2250.186122</td>\n",
       "      <td>2300.375885</td>\n",
       "      <td>2608.765760</td>\n",
       "    </tr>\n",
       "    <tr>\n",
       "      <th>std</th>\n",
       "      <td>9698.091793</td>\n",
       "      <td>189.496507</td>\n",
       "      <td>12.718991</td>\n",
       "      <td>59472.881131</td>\n",
       "      <td>58305.224138</td>\n",
       "      <td>55777.906879</td>\n",
       "      <td>51825.29715</td>\n",
       "      <td>48612.594594</td>\n",
       "      <td>48042.412239</td>\n",
       "      <td>11398.052166</td>\n",
       "      <td>1.675277e+04</td>\n",
       "      <td>10956.873040</td>\n",
       "      <td>9805.177073</td>\n",
       "      <td>9756.444917</td>\n",
       "      <td>11652.208534</td>\n",
       "    </tr>\n",
       "    <tr>\n",
       "      <th>min</th>\n",
       "      <td>1.000000</td>\n",
       "      <td>1.000000</td>\n",
       "      <td>3.000000</td>\n",
       "      <td>-154973.000000</td>\n",
       "      <td>-69777.000000</td>\n",
       "      <td>-157264.000000</td>\n",
       "      <td>-81334.00000</td>\n",
       "      <td>-81334.000000</td>\n",
       "      <td>-94625.000000</td>\n",
       "      <td>1.000000</td>\n",
       "      <td>1.000000e+00</td>\n",
       "      <td>1.000000</td>\n",
       "      <td>1.000000</td>\n",
       "      <td>1.000000</td>\n",
       "      <td>1.000000</td>\n",
       "    </tr>\n",
       "    <tr>\n",
       "      <th>25%</th>\n",
       "      <td>1850.500000</td>\n",
       "      <td>4.000000</td>\n",
       "      <td>26.000000</td>\n",
       "      <td>1788.000000</td>\n",
       "      <td>1847.750000</td>\n",
       "      <td>1862.000000</td>\n",
       "      <td>1782.00000</td>\n",
       "      <td>1718.000000</td>\n",
       "      <td>1724.000000</td>\n",
       "      <td>21.000000</td>\n",
       "      <td>1.900000e+01</td>\n",
       "      <td>15.000000</td>\n",
       "      <td>13.000000</td>\n",
       "      <td>13.000000</td>\n",
       "      <td>15.000000</td>\n",
       "    </tr>\n",
       "    <tr>\n",
       "      <th>50%</th>\n",
       "      <td>7483.500000</td>\n",
       "      <td>9.000000</td>\n",
       "      <td>33.000000</td>\n",
       "      <td>11569.000000</td>\n",
       "      <td>12637.000000</td>\n",
       "      <td>13255.000000</td>\n",
       "      <td>13350.00000</td>\n",
       "      <td>12847.000000</td>\n",
       "      <td>13398.500000</td>\n",
       "      <td>512.000000</td>\n",
       "      <td>5.150000e+02</td>\n",
       "      <td>431.000000</td>\n",
       "      <td>367.000000</td>\n",
       "      <td>387.000000</td>\n",
       "      <td>478.000000</td>\n",
       "    </tr>\n",
       "    <tr>\n",
       "      <th>75%</th>\n",
       "      <td>18746.250000</td>\n",
       "      <td>21.000000</td>\n",
       "      <td>41.000000</td>\n",
       "      <td>33989.494570</td>\n",
       "      <td>33938.750418</td>\n",
       "      <td>32617.867011</td>\n",
       "      <td>30709.50416</td>\n",
       "      <td>29015.123424</td>\n",
       "      <td>28526.276559</td>\n",
       "      <td>2613.957537</td>\n",
       "      <td>2.922762e+03</td>\n",
       "      <td>2584.508988</td>\n",
       "      <td>2250.186122</td>\n",
       "      <td>2300.375885</td>\n",
       "      <td>2608.765760</td>\n",
       "    </tr>\n",
       "    <tr>\n",
       "      <th>max</th>\n",
       "      <td>29999.000000</td>\n",
       "      <td>32768.000000</td>\n",
       "      <td>79.000000</td>\n",
       "      <td>964511.000000</td>\n",
       "      <td>983931.000000</td>\n",
       "      <td>693131.000000</td>\n",
       "      <td>891586.00000</td>\n",
       "      <td>927171.000000</td>\n",
       "      <td>961664.000000</td>\n",
       "      <td>873552.000000</td>\n",
       "      <td>1.684259e+06</td>\n",
       "      <td>417588.000000</td>\n",
       "      <td>528897.000000</td>\n",
       "      <td>426529.000000</td>\n",
       "      <td>528666.000000</td>\n",
       "    </tr>\n",
       "  </tbody>\n",
       "</table>\n",
       "</div>"
      ],
      "text/plain": [
       "                 ID     LIMIT_BAL           AGE      BILL_AMT1      BILL_AMT2  \\\n",
       "count  30000.000000  30000.000000  30000.000000   30000.000000   30000.000000   \n",
       "mean   10666.660700     14.648867     32.427900   33989.494570   33938.750418   \n",
       "std     9698.091793    189.496507     12.718991   59472.881131   58305.224138   \n",
       "min        1.000000      1.000000      3.000000 -154973.000000  -69777.000000   \n",
       "25%     1850.500000      4.000000     26.000000    1788.000000    1847.750000   \n",
       "50%     7483.500000      9.000000     33.000000   11569.000000   12637.000000   \n",
       "75%    18746.250000     21.000000     41.000000   33989.494570   33938.750418   \n",
       "max    29999.000000  32768.000000     79.000000  964511.000000  983931.000000   \n",
       "\n",
       "           BILL_AMT3     BILL_AMT4      BILL_AMT5      BILL_AMT6  \\\n",
       "count   30000.000000   30000.00000   30000.000000   30000.000000   \n",
       "mean    32617.867011   30709.50416   29015.123424   28526.276559   \n",
       "std     55777.906879   51825.29715   48612.594594   48042.412239   \n",
       "min   -157264.000000  -81334.00000  -81334.000000  -94625.000000   \n",
       "25%      1862.000000    1782.00000    1718.000000    1724.000000   \n",
       "50%     13255.000000   13350.00000   12847.000000   13398.500000   \n",
       "75%     32617.867011   30709.50416   29015.123424   28526.276559   \n",
       "max    693131.000000  891586.00000  927171.000000  961664.000000   \n",
       "\n",
       "            PAY_AMT1      PAY_AMT2       PAY_AMT3       PAY_AMT4  \\\n",
       "count   30000.000000  3.000000e+04   30000.000000   30000.000000   \n",
       "mean     2613.957537  2.922762e+03    2584.508988    2250.186122   \n",
       "std     11398.052166  1.675277e+04   10956.873040    9805.177073   \n",
       "min         1.000000  1.000000e+00       1.000000       1.000000   \n",
       "25%        21.000000  1.900000e+01      15.000000      13.000000   \n",
       "50%       512.000000  5.150000e+02     431.000000     367.000000   \n",
       "75%      2613.957537  2.922762e+03    2584.508988    2250.186122   \n",
       "max    873552.000000  1.684259e+06  417588.000000  528897.000000   \n",
       "\n",
       "            PAY_AMT5       PAY_AMT6  \n",
       "count   30000.000000   30000.000000  \n",
       "mean     2300.375885    2608.765760  \n",
       "std      9756.444917   11652.208534  \n",
       "min         1.000000       1.000000  \n",
       "25%        13.000000      15.000000  \n",
       "50%       387.000000     478.000000  \n",
       "75%      2300.375885    2608.765760  \n",
       "max    426529.000000  528666.000000  "
      ]
     },
     "execution_count": 10,
     "metadata": {},
     "output_type": "execute_result"
    }
   ],
   "source": [
    "df.describe()"
   ]
  },
  {
   "cell_type": "markdown",
   "id": "cb6478f5",
   "metadata": {},
   "source": [
    "### 8) Display box plot for LIMIT_BAL"
   ]
  },
  {
   "cell_type": "code",
   "execution_count": 11,
   "id": "982ee3ae",
   "metadata": {},
   "outputs": [
    {
     "data": {
      "text/plain": [
       "{'whiskers': [<matplotlib.lines.Line2D at 0x1d9ea156130>,\n",
       "  <matplotlib.lines.Line2D at 0x1d9ea156370>],\n",
       " 'caps': [<matplotlib.lines.Line2D at 0x1d9ea156880>,\n",
       "  <matplotlib.lines.Line2D at 0x1d9ea156bb0>],\n",
       " 'boxes': [<matplotlib.lines.Line2D at 0x1d9ea154ca0>],\n",
       " 'medians': [<matplotlib.lines.Line2D at 0x1d9ea156ee0>],\n",
       " 'fliers': [<matplotlib.lines.Line2D at 0x1d9eab98310>],\n",
       " 'means': []}"
      ]
     },
     "execution_count": 11,
     "metadata": {},
     "output_type": "execute_result"
    },
    {
     "data": {
      "image/png": "[encoded data removed]",
      "text/plain": [
       "<Figure size 432x288 with 1 Axes>"
      ]
     },
     "metadata": {
      "needs_background": "light"
     },
     "output_type": "display_data"
    }
   ],
   "source": [
    "plt.boxplot(df.LIMIT_BAL)"
   ]
  },
  {
   "cell_type": "markdown",
   "id": "85381ce8",
   "metadata": {},
   "source": [
    "### 9) Display box plot for age"
   ]
  },
  {
   "cell_type": "code",
   "execution_count": 12,
   "id": "f4e55658",
   "metadata": {},
   "outputs": [
    {
     "data": {
      "text/plain": [
       "{'whiskers': [<matplotlib.lines.Line2D at 0x1d9ea9bf250>,\n",
       "  <matplotlib.lines.Line2D at 0x1d9ea662100>],\n",
       " 'caps': [<matplotlib.lines.Line2D at 0x1d9ea662580>,\n",
       "  <matplotlib.lines.Line2D at 0x1d9ea662790>],\n",
       " 'boxes': [<matplotlib.lines.Line2D at 0x1d9ea9bfca0>],\n",
       " 'medians': [<matplotlib.lines.Line2D at 0x1d9ea662b80>],\n",
       " 'fliers': [<matplotlib.lines.Line2D at 0x1d9ea668520>],\n",
       " 'means': []}"
      ]
     },
     "execution_count": 12,
     "metadata": {},
     "output_type": "execute_result"
    },
    {
     "data": {
      "image/png": "[encoded data removed]",
      "text/plain": [
       "<Figure size 432x288 with 1 Axes>"
      ]
     },
     "metadata": {
      "needs_background": "light"
     },
     "output_type": "display_data"
    }
   ],
   "source": [
    "plt.boxplot(df.AGE)"
   ]
  },
  {
   "cell_type": "markdown",
   "id": "90b29f6b",
   "metadata": {},
   "source": [
    "### 10) Drop all the null values"
   ]
  },
  {
   "cell_type": "code",
   "execution_count": 13,
   "id": "36e19dd5",
   "metadata": {},
   "outputs": [
    {
     "data": {
      "text/plain": [
       "ID                0\n",
       "LIMIT_BAL         0\n",
       "AGE               0\n",
       "BILL_AMT1         0\n",
       "BILL_AMT2         0\n",
       "BILL_AMT3         0\n",
       "BILL_AMT4         0\n",
       "BILL_AMT5         0\n",
       "BILL_AMT6         0\n",
       "PAY_AMT1          0\n",
       "PAY_AMT2          0\n",
       "PAY_AMT3          0\n",
       "PAY_AMT4          0\n",
       "PAY_AMT5          0\n",
       "PAY_AMT6          0\n",
       "Default Status    0\n",
       "dtype: int64"
      ]
     },
     "execution_count": 13,
     "metadata": {},
     "output_type": "execute_result"
    }
   ],
   "source": [
    "df.isnull().sum()"
   ]
  },
  {
   "cell_type": "markdown",
   "id": "ef3f1be7",
   "metadata": {},
   "source": [
    "#### There are no null values in dataset"
   ]
  },
  {
   "cell_type": "markdown",
   "id": "e6ec7ab5",
   "metadata": {},
   "source": [
    "### 11) Perform encoding on default status"
   ]
  },
  {
   "cell_type": "code",
   "execution_count": 14,
   "id": "b332a522",
   "metadata": {},
   "outputs": [],
   "source": [
    "encod = LabelEncoder()"
   ]
  },
  {
   "cell_type": "code",
   "execution_count": 15,
   "id": "7d0b0436",
   "metadata": {},
   "outputs": [],
   "source": [
    "df['Default Status'] = encod.fit_transform(df['Default Status'])"
   ]
  },
  {
   "cell_type": "code",
   "execution_count": 17,
   "id": "4772e98d",
   "metadata": {},
   "outputs": [
    {
     "data": {
      "text/html": [
       "<div>\n",
       "<style scoped>\n",
       "    .dataframe tbody tr th:only-of-type {\n",
       "        vertical-align: middle;\n",
       "    }\n",
       "\n",
       "    .dataframe tbody tr th {\n",
       "        vertical-align: top;\n",
       "    }\n",
       "\n",
       "    .dataframe thead th {\n",
       "        text-align: right;\n",
       "    }\n",
       "</style>\n",
       "<table border=\"1\" class=\"dataframe\">\n",
       "  <thead>\n",
       "    <tr style=\"text-align: right;\">\n",
       "      <th></th>\n",
       "      <th>Default Status</th>\n",
       "    </tr>\n",
       "  </thead>\n",
       "  <tbody>\n",
       "    <tr>\n",
       "      <th>0</th>\n",
       "      <td>0</td>\n",
       "    </tr>\n",
       "    <tr>\n",
       "      <th>1</th>\n",
       "      <td>0</td>\n",
       "    </tr>\n",
       "    <tr>\n",
       "      <th>2</th>\n",
       "      <td>1</td>\n",
       "    </tr>\n",
       "    <tr>\n",
       "      <th>3</th>\n",
       "      <td>1</td>\n",
       "    </tr>\n",
       "    <tr>\n",
       "      <th>4</th>\n",
       "      <td>1</td>\n",
       "    </tr>\n",
       "    <tr>\n",
       "      <th>...</th>\n",
       "      <td>...</td>\n",
       "    </tr>\n",
       "    <tr>\n",
       "      <th>29995</th>\n",
       "      <td>1</td>\n",
       "    </tr>\n",
       "    <tr>\n",
       "      <th>29996</th>\n",
       "      <td>1</td>\n",
       "    </tr>\n",
       "    <tr>\n",
       "      <th>29997</th>\n",
       "      <td>0</td>\n",
       "    </tr>\n",
       "    <tr>\n",
       "      <th>29998</th>\n",
       "      <td>0</td>\n",
       "    </tr>\n",
       "    <tr>\n",
       "      <th>29999</th>\n",
       "      <td>0</td>\n",
       "    </tr>\n",
       "  </tbody>\n",
       "</table>\n",
       "<p>30000 rows × 1 columns</p>\n",
       "</div>"
      ],
      "text/plain": [
       "       Default Status\n",
       "0                   0\n",
       "1                   0\n",
       "2                   1\n",
       "3                   1\n",
       "4                   1\n",
       "...               ...\n",
       "29995               1\n",
       "29996               1\n",
       "29997               0\n",
       "29998               0\n",
       "29999               0\n",
       "\n",
       "[30000 rows x 1 columns]"
      ]
     },
     "execution_count": 17,
     "metadata": {},
     "output_type": "execute_result"
    }
   ],
   "source": [
    "df[['Default Status']]"
   ]
  },
  {
   "cell_type": "markdown",
   "id": "b3bd93a5",
   "metadata": {},
   "source": [
    "## Part - 2 : Working with Model"
   ]
  },
  {
   "cell_type": "markdown",
   "id": "e7743a6f",
   "metadata": {},
   "source": [
    "### 1) Create a feature and target dataset"
   ]
  },
  {
   "cell_type": "code",
   "execution_count": 18,
   "id": "781b741d",
   "metadata": {},
   "outputs": [],
   "source": [
    "x = df.drop(['Default Status'], axis=1)\n",
    "y = df[['Default Status']]"
   ]
  },
  {
   "cell_type": "code",
   "execution_count": 19,
   "id": "2bd1f90b",
   "metadata": {},
   "outputs": [
    {
     "data": {
      "text/html": [
       "<div>\n",
       "<style scoped>\n",
       "    .dataframe tbody tr th:only-of-type {\n",
       "        vertical-align: middle;\n",
       "    }\n",
       "\n",
       "    .dataframe tbody tr th {\n",
       "        vertical-align: top;\n",
       "    }\n",
       "\n",
       "    .dataframe thead th {\n",
       "        text-align: right;\n",
       "    }\n",
       "</style>\n",
       "<table border=\"1\" class=\"dataframe\">\n",
       "  <thead>\n",
       "    <tr style=\"text-align: right;\">\n",
       "      <th></th>\n",
       "      <th>ID</th>\n",
       "      <th>LIMIT_BAL</th>\n",
       "      <th>AGE</th>\n",
       "      <th>BILL_AMT1</th>\n",
       "      <th>BILL_AMT2</th>\n",
       "      <th>BILL_AMT3</th>\n",
       "      <th>BILL_AMT4</th>\n",
       "      <th>BILL_AMT5</th>\n",
       "      <th>BILL_AMT6</th>\n",
       "      <th>PAY_AMT1</th>\n",
       "      <th>PAY_AMT2</th>\n",
       "      <th>PAY_AMT3</th>\n",
       "      <th>PAY_AMT4</th>\n",
       "      <th>PAY_AMT5</th>\n",
       "      <th>PAY_AMT6</th>\n",
       "    </tr>\n",
       "  </thead>\n",
       "  <tbody>\n",
       "    <tr>\n",
       "      <th>0</th>\n",
       "      <td>1</td>\n",
       "      <td>2.0</td>\n",
       "      <td>24</td>\n",
       "      <td>3913.0</td>\n",
       "      <td>312.0</td>\n",
       "      <td>689.0</td>\n",
       "      <td>30709.50416</td>\n",
       "      <td>29015.123424</td>\n",
       "      <td>28526.276559</td>\n",
       "      <td>2613.957537</td>\n",
       "      <td>689.0</td>\n",
       "      <td>2584.508988</td>\n",
       "      <td>2250.186122</td>\n",
       "      <td>2300.375885</td>\n",
       "      <td>2608.76576</td>\n",
       "    </tr>\n",
       "    <tr>\n",
       "      <th>1</th>\n",
       "      <td>2</td>\n",
       "      <td>12.0</td>\n",
       "      <td>26</td>\n",
       "      <td>2682.0</td>\n",
       "      <td>1725.0</td>\n",
       "      <td>2682.0</td>\n",
       "      <td>3272.00000</td>\n",
       "      <td>3455.000000</td>\n",
       "      <td>3261.000000</td>\n",
       "      <td>2613.957537</td>\n",
       "      <td>1.0</td>\n",
       "      <td>1.000000</td>\n",
       "      <td>1.000000</td>\n",
       "      <td>2300.375885</td>\n",
       "      <td>2.00000</td>\n",
       "    </tr>\n",
       "    <tr>\n",
       "      <th>2</th>\n",
       "      <td>3</td>\n",
       "      <td>9.0</td>\n",
       "      <td>34</td>\n",
       "      <td>29239.0</td>\n",
       "      <td>1427.0</td>\n",
       "      <td>13559.0</td>\n",
       "      <td>14331.00000</td>\n",
       "      <td>14948.000000</td>\n",
       "      <td>15549.000000</td>\n",
       "      <td>1518.000000</td>\n",
       "      <td>15.0</td>\n",
       "      <td>1.000000</td>\n",
       "      <td>1.000000</td>\n",
       "      <td>1.000000</td>\n",
       "      <td>5.00000</td>\n",
       "    </tr>\n",
       "    <tr>\n",
       "      <th>3</th>\n",
       "      <td>4</td>\n",
       "      <td>5.0</td>\n",
       "      <td>37</td>\n",
       "      <td>4699.0</td>\n",
       "      <td>48233.0</td>\n",
       "      <td>49291.0</td>\n",
       "      <td>28314.00000</td>\n",
       "      <td>28959.000000</td>\n",
       "      <td>29547.000000</td>\n",
       "      <td>2.000000</td>\n",
       "      <td>219.0</td>\n",
       "      <td>12.000000</td>\n",
       "      <td>11.000000</td>\n",
       "      <td>169.000000</td>\n",
       "      <td>1.00000</td>\n",
       "    </tr>\n",
       "    <tr>\n",
       "      <th>4</th>\n",
       "      <td>5</td>\n",
       "      <td>5.0</td>\n",
       "      <td>57</td>\n",
       "      <td>8617.0</td>\n",
       "      <td>567.0</td>\n",
       "      <td>35835.0</td>\n",
       "      <td>294.00000</td>\n",
       "      <td>19146.000000</td>\n",
       "      <td>19131.000000</td>\n",
       "      <td>2.000000</td>\n",
       "      <td>36681.0</td>\n",
       "      <td>1.000000</td>\n",
       "      <td>9.000000</td>\n",
       "      <td>689.000000</td>\n",
       "      <td>679.00000</td>\n",
       "    </tr>\n",
       "  </tbody>\n",
       "</table>\n",
       "</div>"
      ],
      "text/plain": [
       "   ID  LIMIT_BAL  AGE  BILL_AMT1  BILL_AMT2  BILL_AMT3    BILL_AMT4  \\\n",
       "0   1        2.0   24     3913.0      312.0      689.0  30709.50416   \n",
       "1   2       12.0   26     2682.0     1725.0     2682.0   3272.00000   \n",
       "2   3        9.0   34    29239.0     1427.0    13559.0  14331.00000   \n",
       "3   4        5.0   37     4699.0    48233.0    49291.0  28314.00000   \n",
       "4   5        5.0   57     8617.0      567.0    35835.0    294.00000   \n",
       "\n",
       "      BILL_AMT5     BILL_AMT6     PAY_AMT1  PAY_AMT2     PAY_AMT3  \\\n",
       "0  29015.123424  28526.276559  2613.957537     689.0  2584.508988   \n",
       "1   3455.000000   3261.000000  2613.957537       1.0     1.000000   \n",
       "2  14948.000000  15549.000000  1518.000000      15.0     1.000000   \n",
       "3  28959.000000  29547.000000     2.000000     219.0    12.000000   \n",
       "4  19146.000000  19131.000000     2.000000   36681.0     1.000000   \n",
       "\n",
       "      PAY_AMT4     PAY_AMT5    PAY_AMT6  \n",
       "0  2250.186122  2300.375885  2608.76576  \n",
       "1     1.000000  2300.375885     2.00000  \n",
       "2     1.000000     1.000000     5.00000  \n",
       "3    11.000000   169.000000     1.00000  \n",
       "4     9.000000   689.000000   679.00000  "
      ]
     },
     "execution_count": 19,
     "metadata": {},
     "output_type": "execute_result"
    }
   ],
   "source": [
    "x.head()"
   ]
  },
  {
   "cell_type": "code",
   "execution_count": 20,
   "id": "6bf3b550",
   "metadata": {},
   "outputs": [
    {
     "data": {
      "text/html": [
       "<div>\n",
       "<style scoped>\n",
       "    .dataframe tbody tr th:only-of-type {\n",
       "        vertical-align: middle;\n",
       "    }\n",
       "\n",
       "    .dataframe tbody tr th {\n",
       "        vertical-align: top;\n",
       "    }\n",
       "\n",
       "    .dataframe thead th {\n",
       "        text-align: right;\n",
       "    }\n",
       "</style>\n",
       "<table border=\"1\" class=\"dataframe\">\n",
       "  <thead>\n",
       "    <tr style=\"text-align: right;\">\n",
       "      <th></th>\n",
       "      <th>Default Status</th>\n",
       "    </tr>\n",
       "  </thead>\n",
       "  <tbody>\n",
       "    <tr>\n",
       "      <th>0</th>\n",
       "      <td>0</td>\n",
       "    </tr>\n",
       "    <tr>\n",
       "      <th>1</th>\n",
       "      <td>0</td>\n",
       "    </tr>\n",
       "    <tr>\n",
       "      <th>2</th>\n",
       "      <td>1</td>\n",
       "    </tr>\n",
       "    <tr>\n",
       "      <th>3</th>\n",
       "      <td>1</td>\n",
       "    </tr>\n",
       "    <tr>\n",
       "      <th>4</th>\n",
       "      <td>1</td>\n",
       "    </tr>\n",
       "  </tbody>\n",
       "</table>\n",
       "</div>"
      ],
      "text/plain": [
       "   Default Status\n",
       "0               0\n",
       "1               0\n",
       "2               1\n",
       "3               1\n",
       "4               1"
      ]
     },
     "execution_count": 20,
     "metadata": {},
     "output_type": "execute_result"
    }
   ],
   "source": [
    "y.head()"
   ]
  },
  {
   "cell_type": "markdown",
   "id": "b62bfade",
   "metadata": {},
   "source": [
    "### 2) Split data into training and testing"
   ]
  },
  {
   "cell_type": "code",
   "execution_count": 94,
   "id": "308ccb3b",
   "metadata": {},
   "outputs": [],
   "source": [
    "x_train, x_test, y_train, y_test = train_test_split(x, y, test_size=0.2, random_state=30)"
   ]
  },
  {
   "cell_type": "code",
   "execution_count": 71,
   "id": "00446ca4",
   "metadata": {},
   "outputs": [
    {
     "data": {
      "text/html": [
       "<div>\n",
       "<style scoped>\n",
       "    .dataframe tbody tr th:only-of-type {\n",
       "        vertical-align: middle;\n",
       "    }\n",
       "\n",
       "    .dataframe tbody tr th {\n",
       "        vertical-align: top;\n",
       "    }\n",
       "\n",
       "    .dataframe thead th {\n",
       "        text-align: right;\n",
       "    }\n",
       "</style>\n",
       "<table border=\"1\" class=\"dataframe\">\n",
       "  <thead>\n",
       "    <tr style=\"text-align: right;\">\n",
       "      <th></th>\n",
       "      <th>ID</th>\n",
       "      <th>LIMIT_BAL</th>\n",
       "      <th>AGE</th>\n",
       "      <th>BILL_AMT1</th>\n",
       "      <th>BILL_AMT2</th>\n",
       "      <th>BILL_AMT3</th>\n",
       "      <th>BILL_AMT4</th>\n",
       "      <th>BILL_AMT5</th>\n",
       "      <th>BILL_AMT6</th>\n",
       "      <th>PAY_AMT1</th>\n",
       "      <th>PAY_AMT2</th>\n",
       "      <th>PAY_AMT3</th>\n",
       "      <th>PAY_AMT4</th>\n",
       "      <th>PAY_AMT5</th>\n",
       "      <th>PAY_AMT6</th>\n",
       "    </tr>\n",
       "  </thead>\n",
       "  <tbody>\n",
       "    <tr>\n",
       "      <th>12086</th>\n",
       "      <td>1287</td>\n",
       "      <td>5.0</td>\n",
       "      <td>42</td>\n",
       "      <td>49887.0</td>\n",
       "      <td>49515.000000</td>\n",
       "      <td>3868.000000</td>\n",
       "      <td>29664.0</td>\n",
       "      <td>2957.0</td>\n",
       "      <td>2983.000000</td>\n",
       "      <td>185.000000</td>\n",
       "      <td>157.000000</td>\n",
       "      <td>11.0</td>\n",
       "      <td>12.000000</td>\n",
       "      <td>1116.000000</td>\n",
       "      <td>29.00000</td>\n",
       "    </tr>\n",
       "    <tr>\n",
       "      <th>26087</th>\n",
       "      <td>2688</td>\n",
       "      <td>5.0</td>\n",
       "      <td>37</td>\n",
       "      <td>38418.0</td>\n",
       "      <td>4779.000000</td>\n",
       "      <td>48923.000000</td>\n",
       "      <td>3921.0</td>\n",
       "      <td>3515.0</td>\n",
       "      <td>27861.000000</td>\n",
       "      <td>1.000000</td>\n",
       "      <td>2131.000000</td>\n",
       "      <td>191.0</td>\n",
       "      <td>141.000000</td>\n",
       "      <td>1159.000000</td>\n",
       "      <td>15.00000</td>\n",
       "    </tr>\n",
       "    <tr>\n",
       "      <th>27778</th>\n",
       "      <td>27779</td>\n",
       "      <td>5.0</td>\n",
       "      <td>24</td>\n",
       "      <td>25562.0</td>\n",
       "      <td>33879.000000</td>\n",
       "      <td>33441.000000</td>\n",
       "      <td>32697.0</td>\n",
       "      <td>33693.0</td>\n",
       "      <td>3329.000000</td>\n",
       "      <td>1.000000</td>\n",
       "      <td>2.000000</td>\n",
       "      <td>15.0</td>\n",
       "      <td>3.000000</td>\n",
       "      <td>15.000000</td>\n",
       "      <td>9.00000</td>\n",
       "    </tr>\n",
       "    <tr>\n",
       "      <th>10933</th>\n",
       "      <td>1934</td>\n",
       "      <td>33.0</td>\n",
       "      <td>24</td>\n",
       "      <td>341499.0</td>\n",
       "      <td>334929.000000</td>\n",
       "      <td>317997.000000</td>\n",
       "      <td>274132.0</td>\n",
       "      <td>267622.0</td>\n",
       "      <td>261246.000000</td>\n",
       "      <td>125.000000</td>\n",
       "      <td>1882.000000</td>\n",
       "      <td>992.0</td>\n",
       "      <td>1.000000</td>\n",
       "      <td>1.000000</td>\n",
       "      <td>17629.00000</td>\n",
       "    </tr>\n",
       "    <tr>\n",
       "      <th>4123</th>\n",
       "      <td>4124</td>\n",
       "      <td>12.0</td>\n",
       "      <td>4</td>\n",
       "      <td>739.0</td>\n",
       "      <td>33938.750418</td>\n",
       "      <td>32617.867011</td>\n",
       "      <td>3663.0</td>\n",
       "      <td>3663.0</td>\n",
       "      <td>28526.276559</td>\n",
       "      <td>2613.957537</td>\n",
       "      <td>2922.761583</td>\n",
       "      <td>3663.0</td>\n",
       "      <td>2250.186122</td>\n",
       "      <td>2300.375885</td>\n",
       "      <td>2608.76576</td>\n",
       "    </tr>\n",
       "  </tbody>\n",
       "</table>\n",
       "</div>"
      ],
      "text/plain": [
       "          ID  LIMIT_BAL  AGE  BILL_AMT1      BILL_AMT2      BILL_AMT3  \\\n",
       "12086   1287        5.0   42    49887.0   49515.000000    3868.000000   \n",
       "26087   2688        5.0   37    38418.0    4779.000000   48923.000000   \n",
       "27778  27779        5.0   24    25562.0   33879.000000   33441.000000   \n",
       "10933   1934       33.0   24   341499.0  334929.000000  317997.000000   \n",
       "4123    4124       12.0    4      739.0   33938.750418   32617.867011   \n",
       "\n",
       "       BILL_AMT4  BILL_AMT5      BILL_AMT6     PAY_AMT1     PAY_AMT2  \\\n",
       "12086    29664.0     2957.0    2983.000000   185.000000   157.000000   \n",
       "26087     3921.0     3515.0   27861.000000     1.000000  2131.000000   \n",
       "27778    32697.0    33693.0    3329.000000     1.000000     2.000000   \n",
       "10933   274132.0   267622.0  261246.000000   125.000000  1882.000000   \n",
       "4123      3663.0     3663.0   28526.276559  2613.957537  2922.761583   \n",
       "\n",
       "       PAY_AMT3     PAY_AMT4     PAY_AMT5     PAY_AMT6  \n",
       "12086      11.0    12.000000  1116.000000     29.00000  \n",
       "26087     191.0   141.000000  1159.000000     15.00000  \n",
       "27778      15.0     3.000000    15.000000      9.00000  \n",
       "10933     992.0     1.000000     1.000000  17629.00000  \n",
       "4123     3663.0  2250.186122  2300.375885   2608.76576  "
      ]
     },
     "execution_count": 71,
     "metadata": {},
     "output_type": "execute_result"
    }
   ],
   "source": [
    "x_train.head()"
   ]
  },
  {
   "cell_type": "code",
   "execution_count": 72,
   "id": "a4ede663",
   "metadata": {},
   "outputs": [
    {
     "data": {
      "text/plain": [
       "(24000, 15)"
      ]
     },
     "execution_count": 72,
     "metadata": {},
     "output_type": "execute_result"
    }
   ],
   "source": [
    "x_train.shape"
   ]
  },
  {
   "cell_type": "code",
   "execution_count": 73,
   "id": "1ecbbbff",
   "metadata": {},
   "outputs": [
    {
     "data": {
      "text/html": [
       "<div>\n",
       "<style scoped>\n",
       "    .dataframe tbody tr th:only-of-type {\n",
       "        vertical-align: middle;\n",
       "    }\n",
       "\n",
       "    .dataframe tbody tr th {\n",
       "        vertical-align: top;\n",
       "    }\n",
       "\n",
       "    .dataframe thead th {\n",
       "        text-align: right;\n",
       "    }\n",
       "</style>\n",
       "<table border=\"1\" class=\"dataframe\">\n",
       "  <thead>\n",
       "    <tr style=\"text-align: right;\">\n",
       "      <th></th>\n",
       "      <th>ID</th>\n",
       "      <th>LIMIT_BAL</th>\n",
       "      <th>AGE</th>\n",
       "      <th>BILL_AMT1</th>\n",
       "      <th>BILL_AMT2</th>\n",
       "      <th>BILL_AMT3</th>\n",
       "      <th>BILL_AMT4</th>\n",
       "      <th>BILL_AMT5</th>\n",
       "      <th>BILL_AMT6</th>\n",
       "      <th>PAY_AMT1</th>\n",
       "      <th>PAY_AMT2</th>\n",
       "      <th>PAY_AMT3</th>\n",
       "      <th>PAY_AMT4</th>\n",
       "      <th>PAY_AMT5</th>\n",
       "      <th>PAY_AMT6</th>\n",
       "    </tr>\n",
       "  </thead>\n",
       "  <tbody>\n",
       "    <tr>\n",
       "      <th>1301</th>\n",
       "      <td>132</td>\n",
       "      <td>1.0</td>\n",
       "      <td>22</td>\n",
       "      <td>112.0</td>\n",
       "      <td>9784.000000</td>\n",
       "      <td>9473.000000</td>\n",
       "      <td>8947.00000</td>\n",
       "      <td>9135.000000</td>\n",
       "      <td>8613.000000</td>\n",
       "      <td>2452.000000</td>\n",
       "      <td>7.000000</td>\n",
       "      <td>38.000000</td>\n",
       "      <td>32.000000</td>\n",
       "      <td>328.000000</td>\n",
       "      <td>1.00000</td>\n",
       "    </tr>\n",
       "    <tr>\n",
       "      <th>26985</th>\n",
       "      <td>26986</td>\n",
       "      <td>36.0</td>\n",
       "      <td>32</td>\n",
       "      <td>25.0</td>\n",
       "      <td>33938.750418</td>\n",
       "      <td>32617.867011</td>\n",
       "      <td>30709.50416</td>\n",
       "      <td>29015.123424</td>\n",
       "      <td>28526.276559</td>\n",
       "      <td>2613.957537</td>\n",
       "      <td>2922.761583</td>\n",
       "      <td>2584.508988</td>\n",
       "      <td>2250.186122</td>\n",
       "      <td>2300.375885</td>\n",
       "      <td>2608.76576</td>\n",
       "    </tr>\n",
       "    <tr>\n",
       "      <th>7182</th>\n",
       "      <td>7183</td>\n",
       "      <td>6.0</td>\n",
       "      <td>3</td>\n",
       "      <td>6558.0</td>\n",
       "      <td>59361.000000</td>\n",
       "      <td>6167.000000</td>\n",
       "      <td>5878.00000</td>\n",
       "      <td>59198.000000</td>\n",
       "      <td>6677.000000</td>\n",
       "      <td>35.000000</td>\n",
       "      <td>3.000000</td>\n",
       "      <td>1.000000</td>\n",
       "      <td>2.000000</td>\n",
       "      <td>2.000000</td>\n",
       "      <td>1.00000</td>\n",
       "    </tr>\n",
       "    <tr>\n",
       "      <th>1906</th>\n",
       "      <td>197</td>\n",
       "      <td>36.0</td>\n",
       "      <td>42</td>\n",
       "      <td>22237.0</td>\n",
       "      <td>5683.000000</td>\n",
       "      <td>1632.000000</td>\n",
       "      <td>1632.00000</td>\n",
       "      <td>22379.000000</td>\n",
       "      <td>891.000000</td>\n",
       "      <td>6695.000000</td>\n",
       "      <td>1632.000000</td>\n",
       "      <td>1632.000000</td>\n",
       "      <td>22379.000000</td>\n",
       "      <td>891.000000</td>\n",
       "      <td>4852.00000</td>\n",
       "    </tr>\n",
       "    <tr>\n",
       "      <th>27856</th>\n",
       "      <td>27857</td>\n",
       "      <td>7.0</td>\n",
       "      <td>22</td>\n",
       "      <td>66748.0</td>\n",
       "      <td>52642.000000</td>\n",
       "      <td>4934.000000</td>\n",
       "      <td>34685.00000</td>\n",
       "      <td>3166.000000</td>\n",
       "      <td>29299.000000</td>\n",
       "      <td>249.000000</td>\n",
       "      <td>17.000000</td>\n",
       "      <td>1446.000000</td>\n",
       "      <td>1.000000</td>\n",
       "      <td>144.000000</td>\n",
       "      <td>1176.00000</td>\n",
       "    </tr>\n",
       "  </tbody>\n",
       "</table>\n",
       "</div>"
      ],
      "text/plain": [
       "          ID  LIMIT_BAL  AGE  BILL_AMT1     BILL_AMT2     BILL_AMT3  \\\n",
       "1301     132        1.0   22      112.0   9784.000000   9473.000000   \n",
       "26985  26986       36.0   32       25.0  33938.750418  32617.867011   \n",
       "7182    7183        6.0    3     6558.0  59361.000000   6167.000000   \n",
       "1906     197       36.0   42    22237.0   5683.000000   1632.000000   \n",
       "27856  27857        7.0   22    66748.0  52642.000000   4934.000000   \n",
       "\n",
       "         BILL_AMT4     BILL_AMT5     BILL_AMT6     PAY_AMT1     PAY_AMT2  \\\n",
       "1301    8947.00000   9135.000000   8613.000000  2452.000000     7.000000   \n",
       "26985  30709.50416  29015.123424  28526.276559  2613.957537  2922.761583   \n",
       "7182    5878.00000  59198.000000   6677.000000    35.000000     3.000000   \n",
       "1906    1632.00000  22379.000000    891.000000  6695.000000  1632.000000   \n",
       "27856  34685.00000   3166.000000  29299.000000   249.000000    17.000000   \n",
       "\n",
       "          PAY_AMT3      PAY_AMT4     PAY_AMT5    PAY_AMT6  \n",
       "1301     38.000000     32.000000   328.000000     1.00000  \n",
       "26985  2584.508988   2250.186122  2300.375885  2608.76576  \n",
       "7182      1.000000      2.000000     2.000000     1.00000  \n",
       "1906   1632.000000  22379.000000   891.000000  4852.00000  \n",
       "27856  1446.000000      1.000000   144.000000  1176.00000  "
      ]
     },
     "execution_count": 73,
     "metadata": {},
     "output_type": "execute_result"
    }
   ],
   "source": [
    "x_test.head()"
   ]
  },
  {
   "cell_type": "code",
   "execution_count": 74,
   "id": "98d809bc",
   "metadata": {},
   "outputs": [
    {
     "data": {
      "text/plain": [
       "(6000, 15)"
      ]
     },
     "execution_count": 74,
     "metadata": {},
     "output_type": "execute_result"
    }
   ],
   "source": [
    "x_test.shape"
   ]
  },
  {
   "cell_type": "code",
   "execution_count": 75,
   "id": "f60d9798",
   "metadata": {},
   "outputs": [
    {
     "data": {
      "text/plain": [
       "(24000, 1)"
      ]
     },
     "execution_count": 75,
     "metadata": {},
     "output_type": "execute_result"
    }
   ],
   "source": [
    "y_train.shape"
   ]
  },
  {
   "cell_type": "code",
   "execution_count": 76,
   "id": "704bad3c",
   "metadata": {},
   "outputs": [
    {
     "data": {
      "text/plain": [
       "(6000, 1)"
      ]
     },
     "execution_count": 76,
     "metadata": {},
     "output_type": "execute_result"
    }
   ],
   "source": [
    "y_test.shape"
   ]
  },
  {
   "cell_type": "markdown",
   "id": "6b48193f",
   "metadata": {},
   "source": [
    "### 3) Fit the Gaussian naive bayes classifier"
   ]
  },
  {
   "cell_type": "code",
   "execution_count": 95,
   "id": "81ab90d6",
   "metadata": {},
   "outputs": [],
   "source": [
    "gaussian = GaussianNB()"
   ]
  },
  {
   "cell_type": "code",
   "execution_count": 96,
   "id": "5571adf6",
   "metadata": {},
   "outputs": [
    {
     "data": {
      "text/plain": [
       "GaussianNB()"
      ]
     },
     "execution_count": 96,
     "metadata": {},
     "output_type": "execute_result"
    }
   ],
   "source": [
    "gaussian.fit(x_train, y_train)"
   ]
  },
  {
   "cell_type": "code",
   "execution_count": 97,
   "id": "dff06fa1",
   "metadata": {},
   "outputs": [],
   "source": [
    "y_pred = gaussian.predict(x_test)"
   ]
  },
  {
   "cell_type": "markdown",
   "id": "5fcbc0ca",
   "metadata": {},
   "source": [
    "### 4) Print the training score"
   ]
  },
  {
   "cell_type": "code",
   "execution_count": 98,
   "id": "cf8ee4b7",
   "metadata": {},
   "outputs": [],
   "source": [
    "train_score = round(gaussian.score(x_train, y_train)*100, 2)"
   ]
  },
  {
   "cell_type": "code",
   "execution_count": 99,
   "id": "861326c8",
   "metadata": {},
   "outputs": [
    {
     "name": "stdout",
     "output_type": "stream",
     "text": [
      "Training Score:  75.62\n"
     ]
    }
   ],
   "source": [
    "print('Training Score: ', train_score)"
   ]
  },
  {
   "cell_type": "markdown",
   "id": "72eee764",
   "metadata": {},
   "source": [
    "### 5) Print the testing score"
   ]
  },
  {
   "cell_type": "code",
   "execution_count": 100,
   "id": "da36c28a",
   "metadata": {},
   "outputs": [],
   "source": [
    "test_score = round(gaussian.score(x_test, y_test)*100, 2)"
   ]
  },
  {
   "cell_type": "code",
   "execution_count": 101,
   "id": "f86f1969",
   "metadata": {},
   "outputs": [
    {
     "name": "stdout",
     "output_type": "stream",
     "text": [
      "Test Score:  77.0\n"
     ]
    }
   ],
   "source": [
    "print('Test Score: ', test_score)"
   ]
  },
  {
   "cell_type": "markdown",
   "id": "b9da6424",
   "metadata": {},
   "source": [
    "### 6) Find the accuracy score "
   ]
  },
  {
   "cell_type": "code",
   "execution_count": 102,
   "id": "0e0d0c80",
   "metadata": {},
   "outputs": [],
   "source": [
    "accuracy = round(accuracy_score(y_test, y_pred)*100, 2)"
   ]
  },
  {
   "cell_type": "code",
   "execution_count": 103,
   "id": "31539ff1",
   "metadata": {},
   "outputs": [
    {
     "name": "stdout",
     "output_type": "stream",
     "text": [
      "Accuracy Score:  77.0\n"
     ]
    }
   ],
   "source": [
    "print('Accuracy Score: ', accuracy)"
   ]
  },
  {
   "cell_type": "markdown",
   "id": "486ccc5e",
   "metadata": {},
   "source": [
    "### 7) Find the precision score"
   ]
  },
  {
   "cell_type": "code",
   "execution_count": 104,
   "id": "7e191395",
   "metadata": {},
   "outputs": [],
   "source": [
    "precision = round(precision_score(y_test, y_pred)*100, 2)"
   ]
  },
  {
   "cell_type": "code",
   "execution_count": 105,
   "id": "fa1e1e0d",
   "metadata": {},
   "outputs": [
    {
     "name": "stdout",
     "output_type": "stream",
     "text": [
      "Precision Score:  78.54\n"
     ]
    }
   ],
   "source": [
    "print('Precision Score: ', precision)"
   ]
  },
  {
   "cell_type": "markdown",
   "id": "38b4b0d4",
   "metadata": {},
   "source": [
    "### 8) Find the recall score"
   ]
  },
  {
   "cell_type": "code",
   "execution_count": 106,
   "id": "d11d6f4c",
   "metadata": {},
   "outputs": [],
   "source": [
    "recall = round(recall_score(y_test, y_pred)*100, 2)"
   ]
  },
  {
   "cell_type": "code",
   "execution_count": 107,
   "id": "4540407b",
   "metadata": {},
   "outputs": [
    {
     "name": "stdout",
     "output_type": "stream",
     "text": [
      "Recall Score:  97.35\n"
     ]
    }
   ],
   "source": [
    "print('Recall Score: ', recall)"
   ]
  },
  {
   "cell_type": "markdown",
   "id": "f0df1f16",
   "metadata": {},
   "source": [
    "### 9) Find the Confusion matrix"
   ]
  },
  {
   "cell_type": "code",
   "execution_count": 108,
   "id": "72c99334",
   "metadata": {},
   "outputs": [],
   "source": [
    "con_mat = confusion_matrix(y_test, y_pred)"
   ]
  },
  {
   "cell_type": "code",
   "execution_count": 109,
   "id": "63f41908",
   "metadata": {},
   "outputs": [
    {
     "name": "stdout",
     "output_type": "stream",
     "text": [
      "Confusion Matrix: \n",
      " [[  27 1255]\n",
      " [ 125 4593]]\n"
     ]
    }
   ],
   "source": [
    "print('Confusion Matrix: \\n', con_mat)"
   ]
  },
  {
   "cell_type": "markdown",
   "id": "79028c52",
   "metadata": {},
   "source": [
    "### 10) Find the classification report"
   ]
  },
  {
   "cell_type": "code",
   "execution_count": 111,
   "id": "02749930",
   "metadata": {},
   "outputs": [
    {
     "name": "stdout",
     "output_type": "stream",
     "text": [
      "              precision    recall  f1-score   support\n",
      "\n",
      "           0       0.18      0.02      0.04      1282\n",
      "           1       0.79      0.97      0.87      4718\n",
      "\n",
      "    accuracy                           0.77      6000\n",
      "   macro avg       0.48      0.50      0.45      6000\n",
      "weighted avg       0.66      0.77      0.69      6000\n",
      "\n"
     ]
    }
   ],
   "source": [
    "print(classification_report(y_test, y_pred))"
   ]
  },
  {
   "cell_type": "markdown",
   "id": "4aba7f2e",
   "metadata": {},
   "source": [
    "### Scaling data to increase accuracy"
   ]
  },
  {
   "cell_type": "code",
   "execution_count": 126,
   "id": "0a645035",
   "metadata": {},
   "outputs": [],
   "source": [
    "from sklearn.preprocessing import RobustScaler"
   ]
  },
  {
   "cell_type": "code",
   "execution_count": 127,
   "id": "40e31f88",
   "metadata": {},
   "outputs": [],
   "source": [
    "scaler = RobustScaler()"
   ]
  },
  {
   "cell_type": "code",
   "execution_count": 128,
   "id": "7e55456d",
   "metadata": {},
   "outputs": [
    {
     "data": {
      "text/plain": [
       "Index(['ID', 'LIMIT_BAL', 'AGE', 'BILL_AMT1', 'BILL_AMT2', 'BILL_AMT3',\n",
       "       'BILL_AMT4', 'BILL_AMT5', 'BILL_AMT6', 'PAY_AMT1', 'PAY_AMT2',\n",
       "       'PAY_AMT3', 'PAY_AMT4', 'PAY_AMT5', 'PAY_AMT6'],\n",
       "      dtype='object')"
      ]
     },
     "execution_count": 128,
     "metadata": {},
     "output_type": "execute_result"
    }
   ],
   "source": [
    "columns = x.columns\n",
    "columns"
   ]
  },
  {
   "cell_type": "code",
   "execution_count": 129,
   "id": "8aee8ee9",
   "metadata": {},
   "outputs": [],
   "source": [
    "x_scale = scaler.fit_transform(x)"
   ]
  },
  {
   "cell_type": "code",
   "execution_count": 130,
   "id": "cbfd44ac",
   "metadata": {},
   "outputs": [
    {
     "data": {
      "text/plain": [
       "array([[-0.44286285, -0.41176471, -0.6       , ...,  0.84176551,\n",
       "         0.83649386,  0.82149506],\n",
       "       [-0.44280366,  0.17647059, -0.46666667, ..., -0.16359837,\n",
       "         0.83649386, -0.18351696],\n",
       "       [-0.44274448,  0.        ,  0.06666667, ..., -0.16359837,\n",
       "        -0.16875233, -0.18236034],\n",
       "       ...,\n",
       "       [ 1.33255404, -0.35294118,  0.26666667, ..., -0.14527178,\n",
       "        -0.16831514, -0.1723363 ],\n",
       "       [ 1.33261323, -0.05882353,  0.53333333, ...,  0.69685753,\n",
       "        22.98572803, -0.11334871],\n",
       "       [-0.44274448, -0.23529412,  0.86666667, ..., -0.16359837,\n",
       "        -0.16875233, -0.1839025 ]])"
      ]
     },
     "execution_count": 130,
     "metadata": {},
     "output_type": "execute_result"
    }
   ],
   "source": [
    "x_scale"
   ]
  },
  {
   "cell_type": "code",
   "execution_count": 131,
   "id": "c08c9007",
   "metadata": {},
   "outputs": [],
   "source": [
    "x_scale = pd.DataFrame(x_scale, columns=columns)"
   ]
  },
  {
   "cell_type": "code",
   "execution_count": 132,
   "id": "364fd904",
   "metadata": {},
   "outputs": [
    {
     "data": {
      "text/html": [
       "<div>\n",
       "<style scoped>\n",
       "    .dataframe tbody tr th:only-of-type {\n",
       "        vertical-align: middle;\n",
       "    }\n",
       "\n",
       "    .dataframe tbody tr th {\n",
       "        vertical-align: top;\n",
       "    }\n",
       "\n",
       "    .dataframe thead th {\n",
       "        text-align: right;\n",
       "    }\n",
       "</style>\n",
       "<table border=\"1\" class=\"dataframe\">\n",
       "  <thead>\n",
       "    <tr style=\"text-align: right;\">\n",
       "      <th></th>\n",
       "      <th>ID</th>\n",
       "      <th>LIMIT_BAL</th>\n",
       "      <th>AGE</th>\n",
       "      <th>BILL_AMT1</th>\n",
       "      <th>BILL_AMT2</th>\n",
       "      <th>BILL_AMT3</th>\n",
       "      <th>BILL_AMT4</th>\n",
       "      <th>BILL_AMT5</th>\n",
       "      <th>BILL_AMT6</th>\n",
       "      <th>PAY_AMT1</th>\n",
       "      <th>PAY_AMT2</th>\n",
       "      <th>PAY_AMT3</th>\n",
       "      <th>PAY_AMT4</th>\n",
       "      <th>PAY_AMT5</th>\n",
       "      <th>PAY_AMT6</th>\n",
       "    </tr>\n",
       "  </thead>\n",
       "  <tbody>\n",
       "    <tr>\n",
       "      <th>0</th>\n",
       "      <td>-0.442863</td>\n",
       "      <td>-0.411765</td>\n",
       "      <td>-0.600000</td>\n",
       "      <td>-0.237753</td>\n",
       "      <td>-0.384064</td>\n",
       "      <td>-0.408572</td>\n",
       "      <td>0.600104</td>\n",
       "      <td>0.592301</td>\n",
       "      <td>0.564421</td>\n",
       "      <td>0.810641</td>\n",
       "      <td>0.059922</td>\n",
       "      <td>0.838101</td>\n",
       "      <td>0.841766</td>\n",
       "      <td>0.836494</td>\n",
       "      <td>0.821495</td>\n",
       "    </tr>\n",
       "    <tr>\n",
       "      <th>1</th>\n",
       "      <td>-0.442804</td>\n",
       "      <td>0.176471</td>\n",
       "      <td>-0.466667</td>\n",
       "      <td>-0.275981</td>\n",
       "      <td>-0.340033</td>\n",
       "      <td>-0.343772</td>\n",
       "      <td>-0.348388</td>\n",
       "      <td>-0.344066</td>\n",
       "      <td>-0.378233</td>\n",
       "      <td>0.810641</td>\n",
       "      <td>-0.177012</td>\n",
       "      <td>-0.167347</td>\n",
       "      <td>-0.163598</td>\n",
       "      <td>0.836494</td>\n",
       "      <td>-0.183517</td>\n",
       "    </tr>\n",
       "    <tr>\n",
       "      <th>2</th>\n",
       "      <td>-0.442744</td>\n",
       "      <td>0.000000</td>\n",
       "      <td>0.066667</td>\n",
       "      <td>0.548732</td>\n",
       "      <td>-0.349319</td>\n",
       "      <td>0.009884</td>\n",
       "      <td>0.033912</td>\n",
       "      <td>0.076968</td>\n",
       "      <td>0.080236</td>\n",
       "      <td>0.387974</td>\n",
       "      <td>-0.172190</td>\n",
       "      <td>-0.167347</td>\n",
       "      <td>-0.163598</td>\n",
       "      <td>-0.168752</td>\n",
       "      <td>-0.182360</td>\n",
       "    </tr>\n",
       "    <tr>\n",
       "      <th>3</th>\n",
       "      <td>-0.442685</td>\n",
       "      <td>-0.235294</td>\n",
       "      <td>0.266667</td>\n",
       "      <td>-0.213344</td>\n",
       "      <td>1.109221</td>\n",
       "      <td>1.171679</td>\n",
       "      <td>0.517293</td>\n",
       "      <td>0.590245</td>\n",
       "      <td>0.602505</td>\n",
       "      <td>-0.196687</td>\n",
       "      <td>-0.101937</td>\n",
       "      <td>-0.163066</td>\n",
       "      <td>-0.159128</td>\n",
       "      <td>-0.095306</td>\n",
       "      <td>-0.183902</td>\n",
       "    </tr>\n",
       "    <tr>\n",
       "      <th>4</th>\n",
       "      <td>-0.442626</td>\n",
       "      <td>-0.235294</td>\n",
       "      <td>1.600000</td>\n",
       "      <td>-0.091673</td>\n",
       "      <td>-0.376118</td>\n",
       "      <td>0.734169</td>\n",
       "      <td>-0.451335</td>\n",
       "      <td>0.230757</td>\n",
       "      <td>0.213881</td>\n",
       "      <td>-0.196687</td>\n",
       "      <td>12.454879</td>\n",
       "      <td>-0.167347</td>\n",
       "      <td>-0.160022</td>\n",
       "      <td>0.132029</td>\n",
       "      <td>0.077494</td>\n",
       "    </tr>\n",
       "    <tr>\n",
       "      <th>...</th>\n",
       "      <td>...</td>\n",
       "      <td>...</td>\n",
       "      <td>...</td>\n",
       "      <td>...</td>\n",
       "      <td>...</td>\n",
       "      <td>...</td>\n",
       "      <td>...</td>\n",
       "      <td>...</td>\n",
       "      <td>...</td>\n",
       "      <td>...</td>\n",
       "      <td>...</td>\n",
       "      <td>...</td>\n",
       "      <td>...</td>\n",
       "      <td>...</td>\n",
       "      <td>...</td>\n",
       "    </tr>\n",
       "    <tr>\n",
       "      <th>29995</th>\n",
       "      <td>1.332436</td>\n",
       "      <td>0.764706</td>\n",
       "      <td>0.400000</td>\n",
       "      <td>5.508409</td>\n",
       "      <td>5.614596</td>\n",
       "      <td>0.491288</td>\n",
       "      <td>-0.430939</td>\n",
       "      <td>0.673697</td>\n",
       "      <td>-0.440280</td>\n",
       "      <td>-0.164677</td>\n",
       "      <td>-0.176667</td>\n",
       "      <td>-0.147110</td>\n",
       "      <td>-0.008940</td>\n",
       "      <td>-0.167004</td>\n",
       "      <td>-0.183902</td>\n",
       "    </tr>\n",
       "    <tr>\n",
       "      <th>29996</th>\n",
       "      <td>1.332495</td>\n",
       "      <td>0.352941</td>\n",
       "      <td>0.666667</td>\n",
       "      <td>-0.307004</td>\n",
       "      <td>-0.336823</td>\n",
       "      <td>-0.419530</td>\n",
       "      <td>-0.151102</td>\n",
       "      <td>-0.451623</td>\n",
       "      <td>0.564421</td>\n",
       "      <td>0.510999</td>\n",
       "      <td>1.036931</td>\n",
       "      <td>3.334100</td>\n",
       "      <td>-0.106384</td>\n",
       "      <td>0.836494</td>\n",
       "      <td>0.821495</td>\n",
       "    </tr>\n",
       "    <tr>\n",
       "      <th>29997</th>\n",
       "      <td>1.332554</td>\n",
       "      <td>-0.352941</td>\n",
       "      <td>0.266667</td>\n",
       "      <td>-0.248560</td>\n",
       "      <td>-0.289209</td>\n",
       "      <td>-0.341301</td>\n",
       "      <td>-0.362008</td>\n",
       "      <td>-0.376047</td>\n",
       "      <td>0.222313</td>\n",
       "      <td>0.810641</td>\n",
       "      <td>0.829187</td>\n",
       "      <td>-0.159174</td>\n",
       "      <td>-0.145272</td>\n",
       "      <td>-0.168315</td>\n",
       "      <td>-0.172336</td>\n",
       "    </tr>\n",
       "    <tr>\n",
       "      <th>29998</th>\n",
       "      <td>1.332613</td>\n",
       "      <td>-0.058824</td>\n",
       "      <td>0.533333</td>\n",
       "      <td>-0.410354</td>\n",
       "      <td>2.048612</td>\n",
       "      <td>-0.182762</td>\n",
       "      <td>1.362855</td>\n",
       "      <td>-0.036341</td>\n",
       "      <td>1.326212</td>\n",
       "      <td>0.133824</td>\n",
       "      <td>-0.057167</td>\n",
       "      <td>0.290717</td>\n",
       "      <td>0.696858</td>\n",
       "      <td>22.985728</td>\n",
       "      <td>-0.113349</td>\n",
       "    </tr>\n",
       "    <tr>\n",
       "      <th>29999</th>\n",
       "      <td>-0.442744</td>\n",
       "      <td>-0.235294</td>\n",
       "      <td>0.866667</td>\n",
       "      <td>1.129140</td>\n",
       "      <td>-0.241251</td>\n",
       "      <td>1.187058</td>\n",
       "      <td>0.801486</td>\n",
       "      <td>0.717328</td>\n",
       "      <td>0.071430</td>\n",
       "      <td>-0.090244</td>\n",
       "      <td>-0.171157</td>\n",
       "      <td>-0.112084</td>\n",
       "      <td>-0.163598</td>\n",
       "      <td>-0.168752</td>\n",
       "      <td>-0.183902</td>\n",
       "    </tr>\n",
       "  </tbody>\n",
       "</table>\n",
       "<p>30000 rows × 15 columns</p>\n",
       "</div>"
      ],
      "text/plain": [
       "             ID  LIMIT_BAL       AGE  BILL_AMT1  BILL_AMT2  BILL_AMT3  \\\n",
       "0     -0.442863  -0.411765 -0.600000  -0.237753  -0.384064  -0.408572   \n",
       "1     -0.442804   0.176471 -0.466667  -0.275981  -0.340033  -0.343772   \n",
       "2     -0.442744   0.000000  0.066667   0.548732  -0.349319   0.009884   \n",
       "3     -0.442685  -0.235294  0.266667  -0.213344   1.109221   1.171679   \n",
       "4     -0.442626  -0.235294  1.600000  -0.091673  -0.376118   0.734169   \n",
       "...         ...        ...       ...        ...        ...        ...   \n",
       "29995  1.332436   0.764706  0.400000   5.508409   5.614596   0.491288   \n",
       "29996  1.332495   0.352941  0.666667  -0.307004  -0.336823  -0.419530   \n",
       "29997  1.332554  -0.352941  0.266667  -0.248560  -0.289209  -0.341301   \n",
       "29998  1.332613  -0.058824  0.533333  -0.410354   2.048612  -0.182762   \n",
       "29999 -0.442744  -0.235294  0.866667   1.129140  -0.241251   1.187058   \n",
       "\n",
       "       BILL_AMT4  BILL_AMT5  BILL_AMT6  PAY_AMT1   PAY_AMT2  PAY_AMT3  \\\n",
       "0       0.600104   0.592301   0.564421  0.810641   0.059922  0.838101   \n",
       "1      -0.348388  -0.344066  -0.378233  0.810641  -0.177012 -0.167347   \n",
       "2       0.033912   0.076968   0.080236  0.387974  -0.172190 -0.167347   \n",
       "3       0.517293   0.590245   0.602505 -0.196687  -0.101937 -0.163066   \n",
       "4      -0.451335   0.230757   0.213881 -0.196687  12.454879 -0.167347   \n",
       "...          ...        ...        ...       ...        ...       ...   \n",
       "29995  -0.430939   0.673697  -0.440280 -0.164677  -0.176667 -0.147110   \n",
       "29996  -0.151102  -0.451623   0.564421  0.510999   1.036931  3.334100   \n",
       "29997  -0.362008  -0.376047   0.222313  0.810641   0.829187 -0.159174   \n",
       "29998   1.362855  -0.036341   1.326212  0.133824  -0.057167  0.290717   \n",
       "29999   0.801486   0.717328   0.071430 -0.090244  -0.171157 -0.112084   \n",
       "\n",
       "       PAY_AMT4   PAY_AMT5  PAY_AMT6  \n",
       "0      0.841766   0.836494  0.821495  \n",
       "1     -0.163598   0.836494 -0.183517  \n",
       "2     -0.163598  -0.168752 -0.182360  \n",
       "3     -0.159128  -0.095306 -0.183902  \n",
       "4     -0.160022   0.132029  0.077494  \n",
       "...         ...        ...       ...  \n",
       "29995 -0.008940  -0.167004 -0.183902  \n",
       "29996 -0.106384   0.836494  0.821495  \n",
       "29997 -0.145272  -0.168315 -0.172336  \n",
       "29998  0.696858  22.985728 -0.113349  \n",
       "29999 -0.163598  -0.168752 -0.183902  \n",
       "\n",
       "[30000 rows x 15 columns]"
      ]
     },
     "execution_count": 132,
     "metadata": {},
     "output_type": "execute_result"
    }
   ],
   "source": [
    "x_scale"
   ]
  },
  {
   "cell_type": "code",
   "execution_count": 134,
   "id": "0ac4d1d5",
   "metadata": {},
   "outputs": [
    {
     "data": {
      "text/plain": [
       "(30000, 15)"
      ]
     },
     "execution_count": 134,
     "metadata": {},
     "output_type": "execute_result"
    }
   ],
   "source": [
    "x_scale.shape"
   ]
  },
  {
   "cell_type": "markdown",
   "id": "10f05bd3",
   "metadata": {},
   "source": [
    "### Split Data into training and testing"
   ]
  },
  {
   "cell_type": "code",
   "execution_count": 170,
   "id": "5f307610",
   "metadata": {},
   "outputs": [],
   "source": [
    "x_train, x_test, y_train, y_test = train_test_split(x_scale, y, test_size=0.2, random_state=30)"
   ]
  },
  {
   "cell_type": "code",
   "execution_count": 171,
   "id": "ed08fcdd",
   "metadata": {},
   "outputs": [
    {
     "data": {
      "text/html": [
       "<div>\n",
       "<style scoped>\n",
       "    .dataframe tbody tr th:only-of-type {\n",
       "        vertical-align: middle;\n",
       "    }\n",
       "\n",
       "    .dataframe tbody tr th {\n",
       "        vertical-align: top;\n",
       "    }\n",
       "\n",
       "    .dataframe thead th {\n",
       "        text-align: right;\n",
       "    }\n",
       "</style>\n",
       "<table border=\"1\" class=\"dataframe\">\n",
       "  <thead>\n",
       "    <tr style=\"text-align: right;\">\n",
       "      <th></th>\n",
       "      <th>ID</th>\n",
       "      <th>LIMIT_BAL</th>\n",
       "      <th>AGE</th>\n",
       "      <th>BILL_AMT1</th>\n",
       "      <th>BILL_AMT2</th>\n",
       "      <th>BILL_AMT3</th>\n",
       "      <th>BILL_AMT4</th>\n",
       "      <th>BILL_AMT5</th>\n",
       "      <th>BILL_AMT6</th>\n",
       "      <th>PAY_AMT1</th>\n",
       "      <th>PAY_AMT2</th>\n",
       "      <th>PAY_AMT3</th>\n",
       "      <th>PAY_AMT4</th>\n",
       "      <th>PAY_AMT5</th>\n",
       "      <th>PAY_AMT6</th>\n",
       "    </tr>\n",
       "  </thead>\n",
       "  <tbody>\n",
       "    <tr>\n",
       "      <th>12207</th>\n",
       "      <td>-0.370241</td>\n",
       "      <td>0.588235</td>\n",
       "      <td>0.600000</td>\n",
       "      <td>-0.117790</td>\n",
       "      <td>-0.382070</td>\n",
       "      <td>-0.186566</td>\n",
       "      <td>-0.386553</td>\n",
       "      <td>-0.290470</td>\n",
       "      <td>-0.497924</td>\n",
       "      <td>-0.052450</td>\n",
       "      <td>2.413421</td>\n",
       "      <td>0.676005</td>\n",
       "      <td>-0.140355</td>\n",
       "      <td>-0.167878</td>\n",
       "      <td>0.821495</td>\n",
       "    </tr>\n",
       "    <tr>\n",
       "      <th>11452</th>\n",
       "      <td>0.234941</td>\n",
       "      <td>-0.235294</td>\n",
       "      <td>0.400000</td>\n",
       "      <td>-0.189463</td>\n",
       "      <td>1.121311</td>\n",
       "      <td>1.194309</td>\n",
       "      <td>0.218235</td>\n",
       "      <td>0.143678</td>\n",
       "      <td>-0.438153</td>\n",
       "      <td>0.810641</td>\n",
       "      <td>-0.168402</td>\n",
       "      <td>-0.142440</td>\n",
       "      <td>0.172091</td>\n",
       "      <td>0.091371</td>\n",
       "      <td>0.038554</td>\n",
       "    </tr>\n",
       "    <tr>\n",
       "      <th>10404</th>\n",
       "      <td>-0.434340</td>\n",
       "      <td>0.705882</td>\n",
       "      <td>-2.000000</td>\n",
       "      <td>1.069174</td>\n",
       "      <td>-0.246798</td>\n",
       "      <td>-0.235922</td>\n",
       "      <td>1.332089</td>\n",
       "      <td>-0.253543</td>\n",
       "      <td>-0.296784</td>\n",
       "      <td>-0.114541</td>\n",
       "      <td>-0.175634</td>\n",
       "      <td>-0.159174</td>\n",
       "      <td>0.841766</td>\n",
       "      <td>-0.149516</td>\n",
       "      <td>-0.183517</td>\n",
       "    </tr>\n",
       "    <tr>\n",
       "      <th>29997</th>\n",
       "      <td>1.332554</td>\n",
       "      <td>-0.352941</td>\n",
       "      <td>0.266667</td>\n",
       "      <td>-0.248560</td>\n",
       "      <td>-0.289209</td>\n",
       "      <td>-0.341301</td>\n",
       "      <td>-0.362008</td>\n",
       "      <td>-0.376047</td>\n",
       "      <td>0.222313</td>\n",
       "      <td>0.810641</td>\n",
       "      <td>0.829187</td>\n",
       "      <td>-0.159174</td>\n",
       "      <td>-0.145272</td>\n",
       "      <td>-0.168315</td>\n",
       "      <td>-0.172336</td>\n",
       "    </tr>\n",
       "    <tr>\n",
       "      <th>9753</th>\n",
       "      <td>0.134383</td>\n",
       "      <td>-0.058824</td>\n",
       "      <td>-2.000000</td>\n",
       "      <td>1.800041</td>\n",
       "      <td>1.828457</td>\n",
       "      <td>-0.192744</td>\n",
       "      <td>2.104053</td>\n",
       "      <td>2.308595</td>\n",
       "      <td>2.389704</td>\n",
       "      <td>-0.183960</td>\n",
       "      <td>-0.165303</td>\n",
       "      <td>-0.166569</td>\n",
       "      <td>-0.162704</td>\n",
       "      <td>-0.167878</td>\n",
       "      <td>-0.183131</td>\n",
       "    </tr>\n",
       "  </tbody>\n",
       "</table>\n",
       "</div>"
      ],
      "text/plain": [
       "             ID  LIMIT_BAL       AGE  BILL_AMT1  BILL_AMT2  BILL_AMT3  \\\n",
       "12207 -0.370241   0.588235  0.600000  -0.117790  -0.382070  -0.186566   \n",
       "11452  0.234941  -0.235294  0.400000  -0.189463   1.121311   1.194309   \n",
       "10404 -0.434340   0.705882 -2.000000   1.069174  -0.246798  -0.235922   \n",
       "29997  1.332554  -0.352941  0.266667  -0.248560  -0.289209  -0.341301   \n",
       "9753   0.134383  -0.058824 -2.000000   1.800041   1.828457  -0.192744   \n",
       "\n",
       "       BILL_AMT4  BILL_AMT5  BILL_AMT6  PAY_AMT1  PAY_AMT2  PAY_AMT3  \\\n",
       "12207  -0.386553  -0.290470  -0.497924 -0.052450  2.413421  0.676005   \n",
       "11452   0.218235   0.143678  -0.438153  0.810641 -0.168402 -0.142440   \n",
       "10404   1.332089  -0.253543  -0.296784 -0.114541 -0.175634 -0.159174   \n",
       "29997  -0.362008  -0.376047   0.222313  0.810641  0.829187 -0.159174   \n",
       "9753    2.104053   2.308595   2.389704 -0.183960 -0.165303 -0.166569   \n",
       "\n",
       "       PAY_AMT4  PAY_AMT5  PAY_AMT6  \n",
       "12207 -0.140355 -0.167878  0.821495  \n",
       "11452  0.172091  0.091371  0.038554  \n",
       "10404  0.841766 -0.149516 -0.183517  \n",
       "29997 -0.145272 -0.168315 -0.172336  \n",
       "9753  -0.162704 -0.167878 -0.183131  "
      ]
     },
     "execution_count": 171,
     "metadata": {},
     "output_type": "execute_result"
    }
   ],
   "source": [
    "x_train.head()"
   ]
  },
  {
   "cell_type": "code",
   "execution_count": 172,
   "id": "767d2980",
   "metadata": {},
   "outputs": [
    {
     "data": {
      "text/plain": [
       "(24000, 15)"
      ]
     },
     "execution_count": 172,
     "metadata": {},
     "output_type": "execute_result"
    }
   ],
   "source": [
    "x_train.shape"
   ]
  },
  {
   "cell_type": "code",
   "execution_count": 173,
   "id": "2d62a731",
   "metadata": {},
   "outputs": [
    {
     "data": {
      "text/html": [
       "<div>\n",
       "<style scoped>\n",
       "    .dataframe tbody tr th:only-of-type {\n",
       "        vertical-align: middle;\n",
       "    }\n",
       "\n",
       "    .dataframe tbody tr th {\n",
       "        vertical-align: top;\n",
       "    }\n",
       "\n",
       "    .dataframe thead th {\n",
       "        text-align: right;\n",
       "    }\n",
       "</style>\n",
       "<table border=\"1\" class=\"dataframe\">\n",
       "  <thead>\n",
       "    <tr style=\"text-align: right;\">\n",
       "      <th></th>\n",
       "      <th>ID</th>\n",
       "      <th>LIMIT_BAL</th>\n",
       "      <th>AGE</th>\n",
       "      <th>BILL_AMT1</th>\n",
       "      <th>BILL_AMT2</th>\n",
       "      <th>BILL_AMT3</th>\n",
       "      <th>BILL_AMT4</th>\n",
       "      <th>BILL_AMT5</th>\n",
       "      <th>BILL_AMT6</th>\n",
       "      <th>PAY_AMT1</th>\n",
       "      <th>PAY_AMT2</th>\n",
       "      <th>PAY_AMT3</th>\n",
       "      <th>PAY_AMT4</th>\n",
       "      <th>PAY_AMT5</th>\n",
       "      <th>PAY_AMT6</th>\n",
       "    </tr>\n",
       "  </thead>\n",
       "  <tbody>\n",
       "    <tr>\n",
       "      <th>7707</th>\n",
       "      <td>-0.396875</td>\n",
       "      <td>-0.411765</td>\n",
       "      <td>0.266667</td>\n",
       "      <td>0.175302</td>\n",
       "      <td>-0.093609</td>\n",
       "      <td>-0.367767</td>\n",
       "      <td>-0.422504</td>\n",
       "      <td>-0.429935</td>\n",
       "      <td>-0.210560</td>\n",
       "      <td>0.669506</td>\n",
       "      <td>-0.172190</td>\n",
       "      <td>0.126872</td>\n",
       "      <td>0.841766</td>\n",
       "      <td>-0.150391</td>\n",
       "      <td>-0.183902</td>\n",
       "    </tr>\n",
       "    <tr>\n",
       "      <th>17433</th>\n",
       "      <td>0.588935</td>\n",
       "      <td>0.705882</td>\n",
       "      <td>0.800000</td>\n",
       "      <td>0.696256</td>\n",
       "      <td>0.663792</td>\n",
       "      <td>0.629567</td>\n",
       "      <td>0.600104</td>\n",
       "      <td>0.592301</td>\n",
       "      <td>0.564421</td>\n",
       "      <td>0.810641</td>\n",
       "      <td>0.829187</td>\n",
       "      <td>0.838101</td>\n",
       "      <td>0.841766</td>\n",
       "      <td>0.836494</td>\n",
       "      <td>0.821495</td>\n",
       "    </tr>\n",
       "    <tr>\n",
       "      <th>15668</th>\n",
       "      <td>0.484471</td>\n",
       "      <td>1.882353</td>\n",
       "      <td>-0.400000</td>\n",
       "      <td>-0.136019</td>\n",
       "      <td>0.093765</td>\n",
       "      <td>0.078782</td>\n",
       "      <td>-0.305522</td>\n",
       "      <td>0.184525</td>\n",
       "      <td>0.778012</td>\n",
       "      <td>-0.132281</td>\n",
       "      <td>0.399826</td>\n",
       "      <td>-0.003113</td>\n",
       "      <td>7.870154</td>\n",
       "      <td>14.921465</td>\n",
       "      <td>-0.042024</td>\n",
       "    </tr>\n",
       "    <tr>\n",
       "      <th>21926</th>\n",
       "      <td>0.854860</td>\n",
       "      <td>0.705882</td>\n",
       "      <td>-0.266667</td>\n",
       "      <td>-0.306725</td>\n",
       "      <td>-0.393880</td>\n",
       "      <td>-0.431072</td>\n",
       "      <td>-0.461602</td>\n",
       "      <td>-0.468254</td>\n",
       "      <td>-0.492999</td>\n",
       "      <td>0.810641</td>\n",
       "      <td>0.829187</td>\n",
       "      <td>0.838101</td>\n",
       "      <td>0.127839</td>\n",
       "      <td>0.643532</td>\n",
       "      <td>0.359709</td>\n",
       "    </tr>\n",
       "    <tr>\n",
       "      <th>28353</th>\n",
       "      <td>1.235251</td>\n",
       "      <td>0.470588</td>\n",
       "      <td>0.400000</td>\n",
       "      <td>-0.156980</td>\n",
       "      <td>0.656695</td>\n",
       "      <td>-0.360549</td>\n",
       "      <td>-0.380710</td>\n",
       "      <td>0.083818</td>\n",
       "      <td>-0.368308</td>\n",
       "      <td>-0.000386</td>\n",
       "      <td>-0.175634</td>\n",
       "      <td>2.376719</td>\n",
       "      <td>1.698562</td>\n",
       "      <td>1.372752</td>\n",
       "      <td>2.715357</td>\n",
       "    </tr>\n",
       "  </tbody>\n",
       "</table>\n",
       "</div>"
      ],
      "text/plain": [
       "             ID  LIMIT_BAL       AGE  BILL_AMT1  BILL_AMT2  BILL_AMT3  \\\n",
       "7707  -0.396875  -0.411765  0.266667   0.175302  -0.093609  -0.367767   \n",
       "17433  0.588935   0.705882  0.800000   0.696256   0.663792   0.629567   \n",
       "15668  0.484471   1.882353 -0.400000  -0.136019   0.093765   0.078782   \n",
       "21926  0.854860   0.705882 -0.266667  -0.306725  -0.393880  -0.431072   \n",
       "28353  1.235251   0.470588  0.400000  -0.156980   0.656695  -0.360549   \n",
       "\n",
       "       BILL_AMT4  BILL_AMT5  BILL_AMT6  PAY_AMT1  PAY_AMT2  PAY_AMT3  \\\n",
       "7707   -0.422504  -0.429935  -0.210560  0.669506 -0.172190  0.126872   \n",
       "17433   0.600104   0.592301   0.564421  0.810641  0.829187  0.838101   \n",
       "15668  -0.305522   0.184525   0.778012 -0.132281  0.399826 -0.003113   \n",
       "21926  -0.461602  -0.468254  -0.492999  0.810641  0.829187  0.838101   \n",
       "28353  -0.380710   0.083818  -0.368308 -0.000386 -0.175634  2.376719   \n",
       "\n",
       "       PAY_AMT4   PAY_AMT5  PAY_AMT6  \n",
       "7707   0.841766  -0.150391 -0.183902  \n",
       "17433  0.841766   0.836494  0.821495  \n",
       "15668  7.870154  14.921465 -0.042024  \n",
       "21926  0.127839   0.643532  0.359709  \n",
       "28353  1.698562   1.372752  2.715357  "
      ]
     },
     "execution_count": 173,
     "metadata": {},
     "output_type": "execute_result"
    }
   ],
   "source": [
    "x_test.head()"
   ]
  },
  {
   "cell_type": "code",
   "execution_count": 174,
   "id": "4703959a",
   "metadata": {},
   "outputs": [
    {
     "data": {
      "text/plain": [
       "(6000, 15)"
      ]
     },
     "execution_count": 174,
     "metadata": {},
     "output_type": "execute_result"
    }
   ],
   "source": [
    "x_test.shape"
   ]
  },
  {
   "cell_type": "code",
   "execution_count": 175,
   "id": "4f32d74d",
   "metadata": {},
   "outputs": [
    {
     "data": {
      "text/plain": [
       "(24000, 1)"
      ]
     },
     "execution_count": 175,
     "metadata": {},
     "output_type": "execute_result"
    }
   ],
   "source": [
    "y_train.shape"
   ]
  },
  {
   "cell_type": "code",
   "execution_count": 176,
   "id": "383eee99",
   "metadata": {},
   "outputs": [
    {
     "data": {
      "text/plain": [
       "(6000, 1)"
      ]
     },
     "execution_count": 176,
     "metadata": {},
     "output_type": "execute_result"
    }
   ],
   "source": [
    "y_test.shape"
   ]
  },
  {
   "cell_type": "markdown",
   "id": "f4703750",
   "metadata": {},
   "source": [
    "### Fit the Gaussian naive bayes classifier"
   ]
  },
  {
   "cell_type": "code",
   "execution_count": 177,
   "id": "67aedf80",
   "metadata": {},
   "outputs": [],
   "source": [
    "gaussian = GaussianNB()"
   ]
  },
  {
   "cell_type": "code",
   "execution_count": 178,
   "id": "deaa2ee5",
   "metadata": {},
   "outputs": [
    {
     "data": {
      "text/plain": [
       "GaussianNB()"
      ]
     },
     "execution_count": 178,
     "metadata": {},
     "output_type": "execute_result"
    }
   ],
   "source": [
    "gaussian.fit(x_train, y_train)"
   ]
  },
  {
   "cell_type": "code",
   "execution_count": 179,
   "id": "4357f91e",
   "metadata": {},
   "outputs": [],
   "source": [
    "y_pred = gaussian.predict(x_test)"
   ]
  },
  {
   "cell_type": "markdown",
   "id": "527471c9",
   "metadata": {},
   "source": [
    "### Print the Training Score"
   ]
  },
  {
   "cell_type": "code",
   "execution_count": 180,
   "id": "44b6e647",
   "metadata": {},
   "outputs": [],
   "source": [
    "train_score = round(gaussian.score(x_train, y_train)*100, 2)"
   ]
  },
  {
   "cell_type": "code",
   "execution_count": 181,
   "id": "ad8182d4",
   "metadata": {},
   "outputs": [
    {
     "name": "stdout",
     "output_type": "stream",
     "text": [
      "Training Score:  75.58\n"
     ]
    }
   ],
   "source": [
    "print('Training Score: ', train_score)"
   ]
  },
  {
   "cell_type": "markdown",
   "id": "f110b43a",
   "metadata": {},
   "source": [
    "### Print the Testing Score"
   ]
  },
  {
   "cell_type": "code",
   "execution_count": 182,
   "id": "4f6be262",
   "metadata": {},
   "outputs": [],
   "source": [
    "test_score = round(gaussian.score(x_test, y_test)*100, 2)"
   ]
  },
  {
   "cell_type": "code",
   "execution_count": 183,
   "id": "712784f6",
   "metadata": {},
   "outputs": [
    {
     "name": "stdout",
     "output_type": "stream",
     "text": [
      "Testing Score:  76.93\n"
     ]
    }
   ],
   "source": [
    "print('Testing Score: ', test_score)"
   ]
  },
  {
   "cell_type": "markdown",
   "id": "60111ff6",
   "metadata": {},
   "source": [
    "### Print the classification report"
   ]
  },
  {
   "cell_type": "code",
   "execution_count": 184,
   "id": "472a9c6b",
   "metadata": {},
   "outputs": [
    {
     "name": "stdout",
     "output_type": "stream",
     "text": [
      "              precision    recall  f1-score   support\n",
      "\n",
      "           0       0.17      0.02      0.04      1282\n",
      "           1       0.79      0.97      0.87      4718\n",
      "\n",
      "    accuracy                           0.77      6000\n",
      "   macro avg       0.48      0.50      0.45      6000\n",
      "weighted avg       0.65      0.77      0.69      6000\n",
      "\n"
     ]
    }
   ],
   "source": [
    "print(classification_report(y_test, y_pred))"
   ]
  }
 ],
 "metadata": {
  "kernelspec": {
   "display_name": "Python 3 (ipykernel)",
   "language": "python",
   "name": "python3"
  },
  "language_info": {
   "codemirror_mode": {
    "name": "ipython",
    "version": 3
   },
   "file_extension": ".py",
   "mimetype": "text/x-python",
   "name": "python",
   "nbconvert_exporter": "python",
   "pygments_lexer": "ipython3",
   "version": "3.9.7"
  }
 },
 "nbformat": 4,
 "nbformat_minor": 5
}
